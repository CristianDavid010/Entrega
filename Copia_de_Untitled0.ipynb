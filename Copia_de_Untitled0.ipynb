{
  "nbformat": 4,
  "nbformat_minor": 0,
  "metadata": {
    "colab": {
      "provenance": [],
      "authorship_tag": "ABX9TyNZ57ChFS6HxXjtU28eR605",
      "include_colab_link": true
    },
    "kernelspec": {
      "name": "python3",
      "display_name": "Python 3"
    },
    "language_info": {
      "name": "python"
    }
  },
  "cells": [
    {
      "cell_type": "markdown",
      "metadata": {
        "id": "view-in-github",
        "colab_type": "text"
      },
      "source": [
        "<a href=\"https://colab.research.google.com/github/CristianDavid010/Entrega/blob/main/Copia_de_Untitled0.ipynb\" target=\"_parent\"><img src=\"https://colab.research.google.com/assets/colab-badge.svg\" alt=\"Open In Colab\"/></a>"
      ]
    },
    {
      "cell_type": "code",
      "source": [
        "# tour por la librerias de python ideales para inteligencia artificial\n",
        "\n",
        "# Numpy\n",
        "import numpy as np\n",
        "\n",
        "arr= np.array([1,2,3,4])\n",
        "print(f'suma: {np.sum(arr)}')\n",
        "print(f'media: {np.mean(arr)}')\n",
        "\n",
        "\n",
        "\n",
        "\n",
        "\n"
      ],
      "metadata": {
        "colab": {
          "base_uri": "https://localhost:8080/"
        },
        "id": "Lo4FqIFdjpgi",
        "outputId": "a3de71f7-0d88-4725-9f7a-5ab3ece180f6"
      },
      "execution_count": null,
      "outputs": [
        {
          "output_type": "stream",
          "name": "stdout",
          "text": [
            "suma: 10\n",
            "media: 2.5\n"
          ]
        }
      ]
    },
    {
      "cell_type": "code",
      "source": [
        "nombre = input(\"primero dime tu nombre aventurero/a:\")\n",
        "print(f\"hola{nombre} has encontrado una entrada misteriosa en una cueva..\")\n",
        "edad=int(input(\"para entra a la cueva,dime tu edad:\"))\n",
        "if edad >= 18:\n",
        "    print(\"¡perfecto! tienes la edad suficiente para entrar\")\n",
        "    else:\n",
        "        print(\"hmm...eres muy joven. la puerta magica no se abre\")\n",
        "        clave=input(\"Introduce la palabra magica para abrir la segunda puerta\")\n",
        "        if clave.lower()==\"python\":\n",
        "            print(\"¡correcto! la puerta se abre con un chirrido misterioso\")\n"
      ],
      "metadata": {
        "id": "9ON5yTum85zR"
      },
      "execution_count": null,
      "outputs": []
    },
    {
      "cell_type": "code",
      "source": [],
      "metadata": {
        "id": "GoKdI3l1x96U"
      },
      "execution_count": null,
      "outputs": []
    },
    {
      "cell_type": "code",
      "source": [
        "import pandas as pd\n",
        "\n",
        "df=pd.DataFrame({\n",
        "    \"Nombre\":[\"Ana\",\"Luis\",\"Carlos\"],\n",
        "    \"Edad\":[23,25,30]\n",
        "})\n",
        "\n",
        "print(df)\n",
        "print(f\"Edad promedio: {df['Edad'].mean()}\")"
      ],
      "metadata": {
        "colab": {
          "base_uri": "https://localhost:8080/"
        },
        "id": "4h1vQqJ43TmW",
        "outputId": "99a6e9bf-89d2-4b12-946d-8107e91efe27"
      },
      "execution_count": null,
      "outputs": [
        {
          "output_type": "stream",
          "name": "stdout",
          "text": [
            "   Nombre  Edad\n",
            "0     Ana    23\n",
            "1    Luis    25\n",
            "2  Carlos    30\n",
            "Edad promedio: 26.0\n"
          ]
        }
      ]
    },
    {
      "cell_type": "code",
      "source": [
        "import matplotlib.pyplot as plt\n",
        "\n",
        "nombres=['cris','eder','valery']\n",
        "edades=['23','20','21']\n",
        "\n",
        "plt.bar(nombres,edades, color='orange')\n",
        "plt.title('edades de los participantes')\n",
        "plt.xlabel('nombres')\n",
        "plt.ylabel('edad')\n",
        "plt.show()"
      ],
      "metadata": {
        "colab": {
          "base_uri": "https://localhost:8080/",
          "height": 472
        },
        "id": "J-hJe8AD4fMS",
        "outputId": "46e1468d-48bc-4731-dd12-cf88505b0456"
      },
      "execution_count": null,
      "outputs": [
        {
          "output_type": "display_data",
          "data": {
            "text/plain": [
              "<Figure size 640x480 with 1 Axes>"
            ],
            "image/png": "[encoded data removed]"
          },
          "metadata": {}
        }
      ]
    },
    {
      "cell_type": "code",
      "source": [
        "from sklearn.linear_model import LinearRegression\n",
        "import numpy as np\n",
        "x=np.array([[1], [2], [3], [4]])\n",
        "y=np.array([2,4,6,8]) #relacion lineal\n",
        "\n",
        "modelo=LinearRegression()\n",
        "modelo.fit(x,y)\n",
        "\n",
        "prediccion = modelo.predict([[5]])\n",
        "print(f\"Prediccion para x=5: {prediccion}\")\n",
        "\n",
        "\n",
        "\n",
        "\n"
      ],
      "metadata": {
        "colab": {
          "base_uri": "https://localhost:8080/"
        },
        "id": "x1nQSVPv91lR",
        "outputId": "41150e8d-0b33-4070-861e-6b854e4469a2"
      },
      "execution_count": null,
      "outputs": [
        {
          "output_type": "stream",
          "name": "stdout",
          "text": [
            "Prediccion para x=5: [10.]\n"
          ]
        }
      ]
    },
    {
      "cell_type": "code",
      "source": [
        "from tensorflow.keras.models import Sequential\n",
        "from tensorflow.keras.layers import Dense\n",
        "import numpy as np\n",
        "\n",
        "\n",
        "# datos simples\n",
        "x=np.array([[0],[1]])\n",
        "y=np.array([[0],[1]])\n",
        "\n",
        "#modelo\n",
        "modelo=Sequential()\n",
        "modelo.add(Dense(units=1, input_shape=[1]))\n",
        "modelo.compile(optimizer='sgd', loss='mean_squared_error')\n",
        "modelo.fit(x, y, epochs=100, verbose=0)\n",
        "\n",
        "#salida\n",
        "print(f\"Predicción para 2: {modelo.predict(np.array([[2]]))}\")\n"
      ],
      "metadata": {
        "colab": {
          "base_uri": "https://localhost:8080/"
        },
        "id": "J0AEuPyHEWPd",
        "outputId": "9af61523-d289-4107-aabd-4892e13f3bab"
      },
      "execution_count": null,
      "outputs": [
        {
          "output_type": "stream",
          "name": "stderr",
          "text": [
            "/usr/local/lib/python3.11/dist-packages/keras/src/layers/core/dense.py:87: UserWarning: Do not pass an `input_shape`/`input_dim` argument to a layer. When using Sequential models, prefer using an `Input(shape)` object as the first layer in the model instead.\n",
            "  super().__init__(activity_regularizer=activity_regularizer, **kwargs)\n"
          ]
        },
        {
          "output_type": "stream",
          "name": "stdout",
          "text": [
            "\u001b[1m1/1\u001b[0m \u001b[32m━━━━━━━━━━━━━━━━━━━━\u001b[0m\u001b[37m\u001b[0m \u001b[1m0s\u001b[0m 54ms/step\n",
            "Predicción para 2: [[0.7809168]]\n"
          ]
        }
      ]
    },
    {
      "cell_type": "code",
      "source": [
        "nombre = input(\"primero dime tu nombre aventurero/a:\")\n",
        "print(f\"hola{nombre} has encontrado una entrada misteriosa een una cueva..\")\n",
        "edad=int(input(\"para entra a la cueva,dime tu edad:\"))\n",
        "if edad >= 18:\n",
        "    print(\"¡perfecto! Tienes la edad suficiente paraa entrar\")\n",
        "else:\n",
        "    print(\"Hmm...eres muy joven.La puerta magica no se abre\")\n",
        "clave=input(\"Introduce la palabra magica para abrir la segunda puerta\")\n",
        "if clave.lower()==\"python\":\n",
        "  print(\"¡Correcto! La puerta se abre con un chirrido misterioso\")\n",
        "else:\n",
        "  print(\"La puerta permanece cerrada.¡Sigue buscando la clave correcta!\")\n",
        "  def calcular_fuerza(peso, altura):\n",
        "    return peso/(altura**2)\n",
        "    print(\"antes de continuar, necesitas saber tu nivel de fuerza\")\n",
        "    peso=float(input(\"Introduce tu peso en kilogramos:\"))\n",
        "    altura=float(input(\"Introduce tu altura en metros:\"))\n",
        "    fuerza=calcular_fuerza(peso,altura)\n",
        "    print(\"Tu indice de fuerza es:{round(fuerza,2)}\")\n"
      ],
      "metadata": {
        "colab": {
          "base_uri": "https://localhost:8080/"
        },
        "id": "nty_AL_BTmn3",
        "outputId": "c2c3d035-8a52-452f-87dd-40d6ce957809"
      },
      "execution_count": null,
      "outputs": [
        {
          "output_type": "stream",
          "name": "stdout",
          "text": [
            "primero dime tu nombre aventurero/a:cristian\n",
            "holacristian has encontrado una entrada misteriosa een una cueva..\n",
            "para entra a la cueva,dime tu edad:30\n",
            "¡perfecto! Tienes la edad suficiente paraa entrar\n",
            "Introduce la palabra magica para abrir la segunda puertapython\n",
            "¡Correcto! La puerta se abre con un chirrido misterioso\n"
          ]
        }
      ]
    },
    {
      "cell_type": "code",
      "source": [
        "#deep learning\n",
        "from sklearn.linear_model import LinearRegression\n",
        "import numpy as np\n",
        "\n",
        "#Datos de ventas de comida en en restaurante\n",
        "precios = np.array([[8000],[15000],[17000],[20000]])\n",
        "ventas = np.array([14,7,5,4])\n",
        "\n",
        "# Crear un modelo de predicicon\n",
        "modelo= LinearRegression()\n",
        "#entrenar el modelo con nuestro datos\n",
        "modelo.fit(precios,ventas)\n",
        "#hacer una prediccion: ¿cuantos almuerzos venderemos 4?\n",
        "vendidos = [[4]]\n",
        "prediccionventas = modelo.predict(vendidos)\n",
        "#mostrar el resultado de todo\n",
        "print(f\"ventas ${vendidos[0][0]}, la prediccion es: ${int(prediccionventas)}\")\n"
      ],
      "metadata": {
        "colab": {
          "base_uri": "https://localhost:8080/"
        },
        "id": "Rh5kqVd4CWj8",
        "outputId": "e6179f13-8fc4-4842-cf13-26bee59509a1"
      },
      "execution_count": null,
      "outputs": [
        {
          "output_type": "stream",
          "name": "stdout",
          "text": [
            "ventas $4, la prediccion es: $20\n"
          ]
        },
        {
          "output_type": "stream",
          "name": "stderr",
          "text": [
            "/tmp/ipython-input-11-3676949658.py:17: DeprecationWarning: Conversion of an array with ndim > 0 to a scalar is deprecated, and will error in future. Ensure you extract a single element from your array before performing this operation. (Deprecated NumPy 1.25.)\n",
            "  print(f\"ventas ${vendidos[0][0]}, la prediccion es: ${int(prediccionventas)}\")\n"
          ]
        }
      ]
    },
    {
      "cell_type": "code",
      "source": [
        "from tensorflow.keras.models import Sequential\n",
        "from tensorflow.keras.layers import Dense\n",
        "import numpy as np\n",
        "\n",
        "# Datos aumentados\n",
        "x = np.array([[0], [1], [2], [3], [4]])  # Más datos para mejor aprendizaje\n",
        "y = np.array([[0], [1], [2], [3], [4]])  # Relación lineal simple\n",
        "\n",
        "# Modelo\n",
        "modelo = Sequential()\n",
        "modelo.add(Dense(units=1, input_shape=[1]))\n",
        "modelo.compile(optimizer='adam', loss='mean_squared_error')  # Adam suele funcionar mejor que SGD\n",
        "\n",
        "# Entrenamiento con más epochs y callback para monitoreo\n",
        "history = modelo.fit(x, y, epochs=500, verbose=0)\n",
        "\n",
        "# Predicción\n",
        "test_value = np.array([[2]])\n",
        "prediccion = modelo.predict(test_value)\n",
        "print(f\"\\nPredicción para {test_value[0][0]}: {prediccion[0][0]}\")\n",
        "\n",
        "# Verificación adicional\n",
        "print(\"\\nPredicciones de prueba:\")\n",
        "for val in [0, 1, 2, 3]:\n",
        "    print(f\"{val} → {modelo.predict(np.array([[val]]))[0][0]}\")"
      ],
      "metadata": {
        "colab": {
          "base_uri": "https://localhost:8080/"
        },
        "id": "3Ae81gxsIYhi",
        "outputId": "b42a1439-887d-479d-8655-1a58ae4dfc8c"
      },
      "execution_count": null,
      "outputs": [
        {
          "output_type": "stream",
          "name": "stderr",
          "text": [
            "/usr/local/lib/python3.11/dist-packages/keras/src/layers/core/dense.py:87: UserWarning: Do not pass an `input_shape`/`input_dim` argument to a layer. When using Sequential models, prefer using an `Input(shape)` object as the first layer in the model instead.\n",
            "  super().__init__(activity_regularizer=activity_regularizer, **kwargs)\n"
          ]
        },
        {
          "output_type": "stream",
          "name": "stdout",
          "text": [
            "\u001b[1m1/1\u001b[0m \u001b[32m━━━━━━━━━━━━━━━━━━━━\u001b[0m\u001b[37m\u001b[0m \u001b[1m0s\u001b[0m 52ms/step\n",
            "\n",
            "Predicción para 2: 0.8608853816986084\n",
            "\n",
            "Predicciones de prueba:\n",
            "\u001b[1m1/1\u001b[0m \u001b[32m━━━━━━━━━━━━━━━━━━━━\u001b[0m\u001b[37m\u001b[0m \u001b[1m0s\u001b[0m 35ms/step\n",
            "0 → 0.42262107133865356\n",
            "\u001b[1m1/1\u001b[0m \u001b[32m━━━━━━━━━━━━━━━━━━━━\u001b[0m\u001b[37m\u001b[0m \u001b[1m0s\u001b[0m 37ms/step\n",
            "1 → 0.6417532563209534\n",
            "\u001b[1m1/1\u001b[0m \u001b[32m━━━━━━━━━━━━━━━━━━━━\u001b[0m\u001b[37m\u001b[0m \u001b[1m0s\u001b[0m 35ms/step\n",
            "2 → 0.8608853816986084\n",
            "\u001b[1m1/1\u001b[0m \u001b[32m━━━━━━━━━━━━━━━━━━━━\u001b[0m\u001b[37m\u001b[0m \u001b[1m0s\u001b[0m 37ms/step\n",
            "3 → 1.0800175666809082\n"
          ]
        }
      ]
    }
  ]
}