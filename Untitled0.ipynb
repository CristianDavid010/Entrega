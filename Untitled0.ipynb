{
  "nbformat": 4,
  "nbformat_minor": 0,
  "metadata": {
    "colab": {
      "provenance": [],
      "authorship_tag": "ABX9TyMFh/vUQj1Btz1BOnx24J2r",
      "include_colab_link": true
    },
    "kernelspec": {
      "name": "python3",
      "display_name": "Python 3"
    },
    "language_info": {
      "name": "python"
    }
  },
  "cells": [
    {
      "cell_type": "markdown",
      "metadata": {
        "id": "view-in-github",
        "colab_type": "text"
      },
      "source": [
        "<a href=\"https://colab.research.google.com/github/CristianDavid010/Entrega/blob/main/Untitled0.ipynb\" target=\"_parent\"><img src=\"https://colab.research.google.com/assets/colab-badge.svg\" alt=\"Open In Colab\"/></a>"
      ]
    },
    {
      "cell_type": "code",
      "source": [
        "#deep learning\n",
        "from sklearn.linear_model import LinearRegression\n",
        "import numpy as np\n",
        "\n",
        "#Datos de ventas de comida en en restaurante\n",
        "precios = np.array([[8000],[15000],[17000],[20000]])\n",
        "ventas = np.array([14,7,5,4])\n",
        "\n",
        "# Crear un modelo de predicicon\n",
        "modelo= LinearRegression()\n",
        "#entrenar el modelo con nuestro datos\n",
        "modelo.fit(precios,ventas)\n",
        "#hacer una prediccion: ¿cuantos almuerzos venderemos 4?\n",
        "vendidos = [[4]]\n",
        "prediccionventas = modelo.predict(vendidos)\n",
        "#mostrar el resultado de todo\n",
        "print(f\"ventas ${vendidos[0][0]}, la prediccion es: ${int(prediccionventas)}\")"
      ],
      "metadata": {
        "id": "FUNsUTitNHiZ"
      },
      "execution_count": null,
      "outputs": []
    }
  ]
}